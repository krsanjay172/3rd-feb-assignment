{
 "cells": [
  {
   "cell_type": "code",
   "execution_count": 1,
   "id": "e83ea00a-9fcf-44a3-82a0-9145dcbef284",
   "metadata": {},
   "outputs": [],
   "source": [
    "# que-1"
   ]
  },
  {
   "cell_type": "code",
   "execution_count": 2,
   "id": "2c9c3985-f308-4c22-ac4e-d658bdb095e1",
   "metadata": {},
   "outputs": [
    {
     "name": "stdout",
     "output_type": "stream",
     "text": [
      "[1, 3, 5, 7, 9, 11, 13, 15, 17, 19, 21, 23, 25]\n"
     ]
    }
   ],
   "source": [
    "def odd_numbers_list(start, end):\n",
    "    odd_numbers = []\n",
    "    for number in range(start, end + 1):\n",
    "        if number % 2 != 0:\n",
    "            odd_numbers.append(number)\n",
    "    return odd_numbers\n",
    "\n",
    "print(odd_numbers_list(1, 25))\n"
   ]
  },
  {
   "cell_type": "code",
   "execution_count": 3,
   "id": "b110b8d5-1105-40e7-82c9-d5693ffbb7b3",
   "metadata": {},
   "outputs": [],
   "source": [
    "# que-2"
   ]
  },
  {
   "cell_type": "code",
   "execution_count": 4,
   "id": "227b86f6-01e8-4a22-87dd-3faa6fe8964f",
   "metadata": {},
   "outputs": [],
   "source": [
    "#*args and **kwargs are used in functions to allow for a flexible number of arguments to be passed to the function.\n",
    "#*args is a special syntax in Python to pass a variable number of non-keyword arguments to a function.\n",
    "#The arguments passed to the function using *args will be stored in a tuple.\n",
    "#Here's an example of a function using *args"
   ]
  },
  {
   "cell_type": "code",
   "execution_count": 5,
   "id": "cc9c155d-732b-48d1-951a-045a7e09209d",
   "metadata": {},
   "outputs": [
    {
     "name": "stdout",
     "output_type": "stream",
     "text": [
      "1\n",
      "2\n",
      "3\n",
      "4\n"
     ]
    }
   ],
   "source": [
    "def print_args(*args):\n",
    "    for arg in args:\n",
    "        print(arg)\n",
    "\n",
    "print_args(1, 2, 3, 4)\n"
   ]
  },
  {
   "cell_type": "code",
   "execution_count": 13,
   "id": "d7fc0378-26f9-49c8-b16d-49844b5c72bf",
   "metadata": {},
   "outputs": [],
   "source": [
    "# que-3"
   ]
  },
  {
   "cell_type": "code",
   "execution_count": 6,
   "id": "91b751c4-3a11-4225-9f8d-599b87ed8f73",
   "metadata": {},
   "outputs": [],
   "source": [
    "#**kwargs is a special syntax in Python to pass a keyworded, variable length argument list to a function. \n",
    "#The arguments passed to the function using **kwargs will be stored in a dictionary.\n",
    "#Here's an example of a function using **kwargs"
   ]
  },
  {
   "cell_type": "code",
   "execution_count": 7,
   "id": "3120c70d-d0f9-4554-a7f4-1aa187468f58",
   "metadata": {},
   "outputs": [
    {
     "name": "stdout",
     "output_type": "stream",
     "text": [
      "first_name: John\n",
      "last_name: Doe\n"
     ]
    }
   ],
   "source": [
    "def print_kwargs(**kwargs):\n",
    "    for key, value in kwargs.items():\n",
    "        print(f\"{key}: {value}\")\n",
    "\n",
    "print_kwargs(first_name=\"John\", last_name=\"Doe\")\n"
   ]
  },
  {
   "cell_type": "code",
   "execution_count": 11,
   "id": "1c51f12c-346b-4af5-ada5-45fae6de7953",
   "metadata": {},
   "outputs": [],
   "source": [
    "# que-4"
   ]
  },
  {
   "cell_type": "code",
   "execution_count": 9,
   "id": "91a2824d-a912-4814-8431-1488329ed924",
   "metadata": {},
   "outputs": [],
   "source": [
    "#A generator function in Python is a special kind of function that allows you to create a custom iterator. \n",
    "#The generator function returns a generator object, which implements the __iter__ and __next__ methods to allow for iteration.\n",
    "#The yield keyword is used in a generator function to return a value and pause the execution of the function. \n",
    "#The next time the generator function is called, it resumes from where it left off and continues until it reaches the next yield statement or until the function exits. \n",
    "#This allows a generator function to generate a sequence of values over time, rather than generating the entire sequence of values at once.\n",
    "#Here's an example of a generator function that generates the Fibonacci sequence."
   ]
  },
  {
   "cell_type": "code",
   "execution_count": 10,
   "id": "445026aa-92ab-42a4-8b7e-ff3f84deea43",
   "metadata": {},
   "outputs": [
    {
     "name": "stdout",
     "output_type": "stream",
     "text": [
      "0\n",
      "1\n",
      "1\n",
      "2\n",
      "3\n"
     ]
    }
   ],
   "source": [
    "def fibonacci_sequence(n):\n",
    "    a, b = 0, 1\n",
    "    for i in range(n):\n",
    "        yield a\n",
    "        a, b = b, a + b\n",
    "\n",
    "fib = fibonacci_sequence(5)\n",
    "\n",
    "for i in fib:\n",
    "    print(i)\n"
   ]
  },
  {
   "cell_type": "code",
   "execution_count": 12,
   "id": "9cb8ab8c-0319-4e88-aed9-dffb8552ffb8",
   "metadata": {},
   "outputs": [],
   "source": [
    "# que-5"
   ]
  },
  {
   "cell_type": "code",
   "execution_count": 14,
   "id": "283ca0d7-c68c-49f2-8cfd-7e62ebefded6",
   "metadata": {},
   "outputs": [],
   "source": [
    "def prime_numbers():\n",
    "    yield 2\n",
    "    primes = [2]\n",
    "    for num in range(3, 1000):\n",
    "        is_prime = True\n",
    "        for prime in primes:\n",
    "            if num % prime == 0:\n",
    "                is_prime = False\n",
    "                break\n",
    "        if is_prime:\n",
    "            primes.append(num)\n",
    "            yield num"
   ]
  },
  {
   "cell_type": "code",
   "execution_count": 15,
   "id": "fde831ee-7c3b-44ce-aff3-35cf0fda989a",
   "metadata": {},
   "outputs": [
    {
     "name": "stdout",
     "output_type": "stream",
     "text": [
      "2\n",
      "3\n",
      "5\n",
      "7\n",
      "11\n",
      "13\n",
      "17\n",
      "19\n",
      "23\n",
      "29\n",
      "31\n",
      "37\n",
      "41\n",
      "43\n",
      "47\n",
      "53\n",
      "59\n",
      "61\n",
      "67\n",
      "71\n"
     ]
    }
   ],
   "source": [
    "gen = prime_numbers()\n",
    "for i in range(20):\n",
    "    print(next(gen))\n"
   ]
  },
  {
   "cell_type": "code",
   "execution_count": 16,
   "id": "c5bb9777-067a-4363-8da7-8438fcc49e92",
   "metadata": {},
   "outputs": [],
   "source": [
    "# que-6"
   ]
  },
  {
   "cell_type": "code",
   "execution_count": 17,
   "id": "846113a4-8dd4-4d1b-b125-7488b3ed5293",
   "metadata": {},
   "outputs": [
    {
     "name": "stdout",
     "output_type": "stream",
     "text": [
      "1\n",
      "1\n",
      "2\n",
      "3\n",
      "5\n",
      "8\n",
      "13\n",
      "21\n",
      "34\n",
      "55\n"
     ]
    }
   ],
   "source": [
    "def fibonacci(n):\n",
    "    a, b = 0, 1\n",
    "    while n > 0:\n",
    "        print(b)\n",
    "        a, b = b, a + b\n",
    "        n -= 1\n",
    "\n",
    "fibonacci(10)\n"
   ]
  },
  {
   "cell_type": "code",
   "execution_count": 18,
   "id": "32625dbe-ce18-4218-83cc-8eb0ab5ee27f",
   "metadata": {},
   "outputs": [],
   "source": [
    "# que-7"
   ]
  },
  {
   "cell_type": "code",
   "execution_count": 19,
   "id": "f72829f1-febe-456c-a252-e3df60f5a73e",
   "metadata": {},
   "outputs": [],
   "source": [
    "#Here's a list comprehension to iterate through the given string 'pwskills':"
   ]
  },
  {
   "cell_type": "code",
   "execution_count": 20,
   "id": "916e15db-ad16-482e-a523-22504747dbc5",
   "metadata": {},
   "outputs": [
    {
     "data": {
      "text/plain": [
       "['p', 'w', 's', 'k', 'i', 'l', 'l', 's']"
      ]
     },
     "execution_count": 20,
     "metadata": {},
     "output_type": "execute_result"
    }
   ],
   "source": [
    "string = 'pwskills'\n",
    "[char for char in string]\n"
   ]
  },
  {
   "cell_type": "code",
   "execution_count": 21,
   "id": "eed14a0f-f574-4893-b58e-a0414283190e",
   "metadata": {},
   "outputs": [],
   "source": [
    "# que-8"
   ]
  },
  {
   "cell_type": "code",
   "execution_count": 22,
   "id": "4316a829-9d3c-4926-9a71-b86efafcc99e",
   "metadata": {},
   "outputs": [
    {
     "name": "stdin",
     "output_type": "stream",
     "text": [
      "Enter a number:  10\n"
     ]
    },
    {
     "name": "stdout",
     "output_type": "stream",
     "text": [
      "10 is not a palindrome.\n"
     ]
    }
   ],
   "source": [
    "def is_palindrome(n):\n",
    "    original = n\n",
    "    reverse = 0\n",
    "    while n > 0:\n",
    "        remainder = n % 10\n",
    "        reverse = reverse * 10 + remainder\n",
    "        n = n // 10\n",
    "    return original == reverse\n",
    "\n",
    "number = int(input(\"Enter a number: \"))\n",
    "if is_palindrome(number):\n",
    "    print(f\"{number} is a palindrome.\")\n",
    "else:\n",
    "    print(f\"{number} is not a palindrome.\")\n"
   ]
  },
  {
   "cell_type": "code",
   "execution_count": null,
   "id": "ec837500-fc80-4108-8c36-7a119d51b808",
   "metadata": {},
   "outputs": [],
   "source": []
  }
 ],
 "metadata": {
  "kernelspec": {
   "display_name": "Python 3 (ipykernel)",
   "language": "python",
   "name": "python3"
  },
  "language_info": {
   "codemirror_mode": {
    "name": "ipython",
    "version": 3
   },
   "file_extension": ".py",
   "mimetype": "text/x-python",
   "name": "python",
   "nbconvert_exporter": "python",
   "pygments_lexer": "ipython3",
   "version": "3.10.8"
  }
 },
 "nbformat": 4,
 "nbformat_minor": 5
}
